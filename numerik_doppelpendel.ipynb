{
 "cells": [
  {
   "cell_type": "markdown",
   "id": "a5a5455b",
   "metadata": {},
   "source": [
    "**Doppelpendel numerische Simulation** \n",
    "\n",
    "Willkommen, dieses Dokument ist aus einzelnen Programmblöcken (cells) aufgebaut. Du kannst jeden Block einzeln ausführen. Dabei kommt es auf die Reihenfolge an. Z.B. müssen für manche Blöcke die Pakete aus dem nächsten Block schon geladen sein. Die aktuelle Reihenfolge lässt sich an den Nummern links neben ausgeführten Blöcken ablesen. "
   ]
  },
  {
   "cell_type": "code",
   "execution_count": 1,
   "id": "07644a0a",
   "metadata": {},
   "outputs": [],
   "source": [
    "#Pakete laden\n",
    "import numpy as np\n",
    "import matplotlib.pyplot as plt "
   ]
  },
  {
   "cell_type": "markdown",
   "id": "96207b17",
   "metadata": {},
   "source": [
    "Der nächste Block legt die physikalischen Parameter fest. Z.B. wie schwer die Massen (Personen) auf den beiden Schaukelbrettern sind."
   ]
  },
  {
   "cell_type": "code",
   "execution_count": 2,
   "id": "f0689014",
   "metadata": {},
   "outputs": [],
   "source": [
    "#Parameter Initialisierung\n",
    "g=9.81 #meter pro quadrat sekunden\n",
    "l1=2.4 #meter\n",
    "l2=1.2 #meter\n",
    "m1=75  #kilogramm\n",
    "m2=80  #kilogramm\n",
    "\n",
    "\n",
    "x1=0.5   #meter \n",
    "x2=0   #meter \n",
    "v1=0   #meter pro sekunden\n",
    "v2=0   #meter pro sekunden\n",
    "a1=0   #meter pro quadrat sekunden\n",
    "a2=0   #meter pro quadrat sekunden\n",
    "\n",
    "t=0    #sekunden Zeit\n",
    "experimentlaenge=20       #sekunden\n",
    "zeitschrittdauer=0.01    #sekunden\n",
    "n_zeitschritte=int(experimentlaenge/zeitschrittdauer)\n",
    "zeitschritt_index=0"
   ]
  },
  {
   "cell_type": "markdown",
   "id": "ea9f4959",
   "metadata": {},
   "source": [
    "Der nächste Block erstellt arrays zunächst gefüllt mit Nullen. Arrays sind eine Reihe von Schubladen im Computerspeicher in die Zahlen gespeichert werden können. Später wird dort dann zum Beispiel gespeichert dass beim 57. Speicherplatz $m1$ in der Ruhelage ist. Mit Blick in denn 57. Speicherplatz von $zeit speicher$ ist dann ersichtlich dass nach z.B. 0.057 sekunden $x1=0$ (angenommen $zeitschrittdauer=0.001$).   "
   ]
  },
  {
   "cell_type": "code",
   "execution_count": 3,
   "id": "bc8279d9",
   "metadata": {},
   "outputs": [],
   "source": [
    "#Speicherplatz Initialisierung \n",
    "x1_speicher=np.zeros(n_zeitschritte)\n",
    "x2_speicher=np.zeros(n_zeitschritte)\n",
    "v1_speicher=np.zeros(n_zeitschritte)\n",
    "v2_speicher=np.zeros(n_zeitschritte)\n",
    "a1_speicher=np.zeros(n_zeitschritte)\n",
    "a2_speicher=np.zeros(n_zeitschritte)\n",
    "t_speicher=np.arange(0,experimentlaenge,zeitschrittdauer)"
   ]
  },
  {
   "cell_type": "markdown",
   "id": "c81239ee",
   "metadata": {},
   "source": [
    "In den nächsten Blöcken werden Funktion definiert, die man später aufrufen kann. Aus Mathematik kennt ihr Funktion z.B. $f(x)=2x+5$. Aufrufen bedeutet dann auszurechnen dass $f(1)$ gleich ist wie $7$."
   ]
  },
  {
   "cell_type": "markdown",
   "id": "44f66a9d",
   "metadata": {},
   "source": [
    "Der nächste Block führt eine Funktion ein die basierend auf den momentanen Positionen $x1$, $x2$ etc. die Positionen etc. im nächsten Zeitschritt berechnet. Das ist wie wenn man ein Video Bild für Bild anschaut und jeweils das neue aus dem alten vorausberechnet. Für die Berechnung wird hier angenommen, dass die Beschleunigung der Massen sich während beliebig kurzer Zeit sich nicht relevant verändern, also konstant ist. <span style=\"color:red\"> Berechnen Sie mit diesen Annahmen, die neuen Positionen und Geschwindigkeiten</span>."
   ]
  },
  {
   "cell_type": "code",
   "execution_count": 4,
   "id": "afeff9a5",
   "metadata": {},
   "outputs": [
    {
     "ename": "SyntaxError",
     "evalue": "invalid syntax (2745400514.py, line 2)",
     "output_type": "error",
     "traceback": [
      "\u001b[0;36m  Cell \u001b[0;32mIn[4], line 2\u001b[0;36m\u001b[0m\n\u001b[0;31m    x1_neu=\u001b[0m\n\u001b[0m           ^\u001b[0m\n\u001b[0;31mSyntaxError\u001b[0m\u001b[0;31m:\u001b[0m invalid syntax\n"
     ]
    }
   ],
   "source": [
    "def Zeitschritt_gehen_Euler(zeitschrittdauer,x1,v1,a1,x2,v2,a2):\n",
    "    x1_neu=\n",
    "    x2_neu=\n",
    "    v1_neu=\n",
    "    v2_neu=\n",
    "    return x1_neu, v1_neu, x2_neu, v2_neu"
   ]
  },
  {
   "cell_type": "markdown",
   "id": "6357312c",
   "metadata": {},
   "source": [
    "Die Funktion im nächsten Block speichert die momentanen Positionen $x1$,$x2$ etc. in den Speicher damit wir später darauf zugreifen können."
   ]
  },
  {
   "cell_type": "code",
   "execution_count": null,
   "id": "ba06780b",
   "metadata": {},
   "outputs": [],
   "source": [
    "def Speichern(zeitschritt,x1,v1,x2,v2,x1_speicher,v1_speicher,x2_speicher,v2_speicher):\n",
    "    x1_speicher[zeitschritt]=x1\n",
    "    x2_speicher[zeitschritt]=x2\n",
    "    v1_speicher[zeitschritt]=v1\n",
    "    v2_speicher[zeitschritt]=v2\n",
    "    return x1_speicher, v1_speicher, x2_speicher, v2_speicher"
   ]
  },
  {
   "cell_type": "markdown",
   "id": "04461b5a",
   "metadata": {},
   "source": [
    "Im nächsten Block wird immer wieder (iterativ) von einem Zeitschritt die Positionen etc. des nächsten vorausberechnet. So kommt eine Bewegung und letztlich die Simulation zustande.\n",
    "<span style=\"color:red\">Die Kräfte auf die beiden Pendelmassen müssen im folgenden Block noch programmiert werden. Gerne kann mit oder ohne Kleinwinkelnäherung gearbeitet werden</span>."
   ]
  },
  {
   "cell_type": "code",
   "execution_count": null,
   "id": "08ad224f",
   "metadata": {},
   "outputs": [],
   "source": [
    "Speichern(zeitschritt_index,x1,v1,x2,v2,x1_speicher,v1_speicher,x2_speicher,v2_speicher)\n",
    "while zeitschritt_index < n_zeitschritte-1:\n",
    "    #Kräfteberechnung (Hier fehlen die Kraftberechnungen)\n",
    "    Gesamtkraft1=\n",
    "    Gesamtkraft2=\n",
    "    \n",
    "    #resultierende Beschleunigung berechnen\n",
    "    a1=Gesamtkraft1/m1\n",
    "    a2=Gesamtkraft2/m2\n",
    "    #Simulationzeit updaten\n",
    "    x1, v1, x2, v2=Zeitschritt_gehen_Euler(zeitschrittdauer,x1,v1,a1,x2,v2,a2)\n",
    "    zeitschritt_index+=1\n",
    "    #Simulationsituation speichern\n",
    "    x1_speicher, v1_speicher, x2_speicher, v2_speicher=Speichern(zeitschritt_index,x1,v1,x2,v2,x1_speicher,v1_speicher,x2_speicher,v2_speicher)"
   ]
  },
  {
   "cell_type": "code",
   "execution_count": null,
   "id": "10314663",
   "metadata": {},
   "outputs": [],
   "source": [
    "#Visualisierung der Simulation (unter der Annahme der Kleinwinkelnäherung)\n",
    "import matplotlib.animation\n",
    "\n",
    "fig, ax = plt.subplots()\n",
    "ax.axis([-(l1+l2)/2,(l1+l2)/2,-(l1+l2)*1.1,0])\n",
    "lines,  = ax.plot([],[],color='black')\n",
    "point1, = ax.plot([],[],'.',markersize=50,label='m1')\n",
    "point2, = ax.plot([],[],'.',markersize=50,label='m2')\n",
    "time_text = ax.text((l1+l2)/2*0.8, .1, '', fontsize=10)\n",
    "ax.legend()\n",
    "\n",
    "def animate(i):\n",
    "    time_text.set_text('t='+str(np.round(t_speicher[i],2))+' s')\n",
    "    lines.set_data([0,x1_speicher[i],x2_speicher[i]],[0,-l1,-(l1+l2)])\n",
    "    point1.set_data([x1_speicher[i]],[-l1] )\n",
    "    point2.set_data([x2_speicher[i]],[-(l1+l2)] )\n",
    "    \n",
    "ani = matplotlib.animation.FuncAnimation(fig, animate, frames=200)\n",
    "\n",
    "from IPython.display import HTML\n",
    "HTML(ani.to_jshtml())"
   ]
  },
  {
   "cell_type": "code",
   "execution_count": null,
   "id": "81fd9df2",
   "metadata": {},
   "outputs": [],
   "source": [
    "#Graphen von den gespeicherten Daten der Simulation\n",
    "fig, ax = plt.subplots(figsize=(14, 7))\n",
    "ax.plot(t_speicher,x1_speicher,label='m1')\n",
    "ax.plot(t_speicher,x2_speicher,label='m2')\n",
    "ax.legend()\n",
    "ax.set_xlabel('zeit in s')\n",
    "ax.set_ylabel('position in m')\n",
    "plt.show()"
   ]
  },
  {
   "cell_type": "code",
   "execution_count": null,
   "id": "0d041a06",
   "metadata": {},
   "outputs": [],
   "source": []
  },
  {
   "cell_type": "code",
   "execution_count": null,
   "id": "fab29f72",
   "metadata": {},
   "outputs": [],
   "source": []
  },
  {
   "cell_type": "code",
   "execution_count": null,
   "id": "21e14d5e",
   "metadata": {},
   "outputs": [],
   "source": []
  }
 ],
 "metadata": {
  "kernelspec": {
   "display_name": "Python 3 (ipykernel)",
   "language": "python",
   "name": "python3"
  },
  "language_info": {
   "codemirror_mode": {
    "name": "ipython",
    "version": 3
   },
   "file_extension": ".py",
   "mimetype": "text/x-python",
   "name": "python",
   "nbconvert_exporter": "python",
   "pygments_lexer": "ipython3",
   "version": "3.10.9"
  }
 },
 "nbformat": 4,
 "nbformat_minor": 5
}
